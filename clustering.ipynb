{
 "cells": [
  {
   "cell_type": "markdown",
   "metadata": {},
   "source": [
    "# K-Prototypes Clustering"
   ]
  },
  {
   "cell_type": "markdown",
   "metadata": {},
   "source": [
    "## Imports"
   ]
  },
  {
   "cell_type": "code",
   "execution_count": 1,
   "metadata": {},
   "outputs": [],
   "source": [
    "import pandas as pd\n",
    "import seaborn as sns\n",
    "sns.set()\n",
    "from plotnine import *\n",
    "import plotnine\n",
    "# Imports module for k-protoype cluster\n",
    "from kmodes.kprototypes import KPrototypes\n",
    "# Ignore warnings\n",
    "import warnings\n",
    "warnings.filterwarnings('ignore', category = FutureWarning)\n",
    "# Format scientific notation from Pandas\n",
    "pd.set_option('display.float_format', lambda x: '%.3f' % x)"
   ]
  },
  {
   "cell_type": "markdown",
   "metadata": {},
   "source": [
    "## Load data"
   ]
  },
  {
   "cell_type": "code",
   "execution_count": 2,
   "metadata": {},
   "outputs": [],
   "source": [
    "df = pd.read_csv('../data/training_data_2.csv', encoding='utf-8', sep=';')"
   ]
  },
  {
   "cell_type": "markdown",
   "metadata": {},
   "source": [
    "### Print"
   ]
  },
  {
   "cell_type": "code",
   "execution_count": 3,
   "metadata": {
    "scrolled": false
   },
   "outputs": [],
   "source": [
    "# df.head()"
   ]
  },
  {
   "cell_type": "code",
   "execution_count": 4,
   "metadata": {},
   "outputs": [
    {
     "name": "stdout",
     "output_type": "stream",
     "text": [
      "6018\n"
     ]
    }
   ],
   "source": [
    "print(len(df))"
   ]
  },
  {
   "cell_type": "markdown",
   "metadata": {},
   "source": [
    "## Data preprocessing"
   ]
  },
  {
   "cell_type": "code",
   "execution_count": 5,
   "metadata": {},
   "outputs": [],
   "source": [
    "def get_browser(string):\n",
    "    \"\"\"\n",
    "    input: string\n",
    "    output: string\n",
    "    generalizes the browser\n",
    "    \"\"\"\n",
    "    if type(string)!=str:\n",
    "        return None\n",
    "    if 'Mozilla' in string:\n",
    "        return 'Firefox'\n",
    "    elif 'Firefox' in string:\n",
    "        return 'Firefox'\n",
    "    elif 'Safari' in string:\n",
    "        return 'Safari'\n",
    "    elif 'Edge' in string:\n",
    "        return 'Edge'\n",
    "    elif 'Chrome' in string:\n",
    "        return 'Chrome'\n",
    "    elif 'Samsung Internet' in string:\n",
    "        return 'Samsung Internet'\n",
    "    elif 'Google 1' in string or 'Google 6' in string:\n",
    "        return 'Google'\n",
    "    elif 'Facebook' in string or 'Snapchat' in string or 'Instagram' in string:\n",
    "        return 'Réseau Social'\n",
    "    elif 'Opera' in string:\n",
    "        return 'Opera'\n",
    "    else:\n",
    "        return \"Autre\"\n",
    "    \n",
    "def get_os(string):\n",
    "    \"\"\"\n",
    "    input: string\n",
    "    output: string\n",
    "    generalizes the os\n",
    "    \"\"\"\n",
    "    if type(string)!=str:\n",
    "        return None\n",
    "    if 'iOS' in string:\n",
    "        return 'iOS'\n",
    "    elif 'Mac OS' in string:\n",
    "        return 'Mac OS'\n",
    "    elif 'Windows' in string:\n",
    "        return 'Windows'\n",
    "    elif 'Android' in string:\n",
    "        return 'Android'\n",
    "    elif 'Chrome OS' in string:\n",
    "        return 'Chrome OS'\n",
    "    elif 'Linux' in string:\n",
    "        return 'Linux'\n",
    "    elif 'Ubuntu' in string:\n",
    "        return 'Ubuntu'\n",
    "    else:\n",
    "        return 'Autre'\n",
    "    \n",
    "def find_label(string: str):\n",
    "    \"\"\"\n",
    "    input: a string\n",
    "    output: the label (string format)\n",
    "    finds the label of the conversation\n",
    "    \"\"\"\n",
    "    if type(string)!=str:\n",
    "        return None\n",
    "    if 'loa' in string or 'lld' in string or 'location' in string:\n",
    "        return 'location'\n",
    "    elif 'occasion' in string:\n",
    "        return 'vo'\n",
    "    elif 'neuf' in string:\n",
    "        return 'vn'\n",
    "    elif 'entretien' in string or 'service' in string or 'apv' in string:\n",
    "        return 'apv'\n",
    "    else:\n",
    "        return None\n",
    "    \n",
    "def preprocessing(df):\n",
    "    \"\"\"\n",
    "    input: pandas DataFrame\n",
    "    output: pandas DataFrame\n",
    "    executes the previous functions and removes the null values\n",
    "    \"\"\"\n",
    "    df['label'] = df['tags'].apply(find_label)\n",
    "    df['os'] = df['os'].apply(get_os)\n",
    "    df['browser'] = df['browser'].apply(get_browser)\n",
    "    df = df.loc[:, ['status', 'day', 'hour', 'type_device', 'os', 'browser', 'conv_len']]\n",
    "    df = df.dropna()\n",
    "    df = df.reset_index(drop=True)\n",
    "    return df"
   ]
  },
  {
   "cell_type": "code",
   "execution_count": 6,
   "metadata": {},
   "outputs": [],
   "source": [
    "df = preprocessing(df)"
   ]
  },
  {
   "cell_type": "code",
   "execution_count": 7,
   "metadata": {},
   "outputs": [],
   "source": [
    "# df.head()"
   ]
  },
  {
   "cell_type": "markdown",
   "metadata": {},
   "source": [
    "### KPrototypes"
   ]
  },
  {
   "cell_type": "code",
   "execution_count": 8,
   "metadata": {},
   "outputs": [
    {
     "name": "stdout",
     "output_type": "stream",
     "text": [
      "Categorical columns           : ['status', 'day', 'type_device', 'os', 'browser']\n",
      "Categorical columns position  : [0, 1, 3, 4, 5]\n"
     ]
    }
   ],
   "source": [
    "# Get the position of categorical columns\n",
    "catColumnsPos = [df.columns.get_loc(col) for col in list(df.select_dtypes('object').columns)]\n",
    "print('Categorical columns           : {}'.format(list(df.select_dtypes('object').columns)))\n",
    "print('Categorical columns position  : {}'.format(catColumnsPos))"
   ]
  },
  {
   "cell_type": "code",
   "execution_count": 9,
   "metadata": {},
   "outputs": [],
   "source": [
    "# Convert dataframe to matrix\n",
    "dfMatrix = df.to_numpy()\n",
    "# print(dfMatrix)"
   ]
  },
  {
   "cell_type": "code",
   "execution_count": 10,
   "metadata": {},
   "outputs": [
    {
     "name": "stdout",
     "output_type": "stream",
     "text": [
      "Cluster initiation: 1\n",
      "Cluster initiation: 2\n",
      "Cluster initiation: 3\n",
      "Cluster initiation: 4\n",
      "Cluster initiation: 5\n",
      "Cluster initiation: 6\n",
      "Cluster initiation: 7\n",
      "Cluster initiation: 8\n",
      "Cluster initiation: 9\n"
     ]
    },
    {
     "data": {
      "image/png": "[encoded data removed]",
      "text/plain": [
       "<Figure size 800x480 with 1 Axes>"
      ]
     },
     "metadata": {
      "needs_background": "light"
     },
     "output_type": "display_data"
    },
    {
     "data": {
      "text/plain": [
       "<ggplot: (132759257555)>"
      ]
     },
     "execution_count": 10,
     "metadata": {},
     "output_type": "execute_result"
    }
   ],
   "source": [
    "# Choose optimal K using Elbow method\n",
    "cost = []\n",
    "for cluster in range(1, 10):\n",
    "    try:\n",
    "        kprototype = KPrototypes(n_jobs = -1, n_clusters = cluster, init = 'Huang', random_state = 0)\n",
    "        kprototype.fit_predict(dfMatrix, categorical = catColumnsPos)\n",
    "        cost.append(kprototype.cost_)\n",
    "        print('Cluster initiation: {}'.format(cluster))\n",
    "    except Expection as e:\n",
    "        print(e)\n",
    "\n",
    "        \n",
    "# print(len(cost))\n",
    "# Converting the results into a dataframe and plotting them\n",
    "df_cost = pd.DataFrame({'Cluster':range(1, 10), 'Cost':cost})\n",
    "# Data viz\n",
    "plotnine.options.figure_size = (8, 4.8)\n",
    "(\n",
    "    ggplot(data = df_cost)+\n",
    "    geom_line(aes(x = 'Cluster',\n",
    "                  y = 'Cost'))+\n",
    "    geom_point(aes(x = 'Cluster',\n",
    "                   y = 'Cost'))+\n",
    "    geom_label(aes(x = 'Cluster',\n",
    "                   y = 'Cost',\n",
    "                   label = 'Cluster'),\n",
    "               size = 10,\n",
    "               nudge_y = 1000) +\n",
    "    labs(title = 'Nombre de clusters optimal avec la courbe Elbow')+\n",
    "    xlab('Nombre de clusters k')+\n",
    "    ylab('Coût')+\n",
    "    theme_minimal()\n",
    ")"
   ]
  },
  {
   "cell_type": "code",
   "execution_count": 11,
   "metadata": {},
   "outputs": [
    {
     "data": {
      "text/plain": [
       "array([1, 2, 2, ..., 1, 2, 2], dtype=uint16)"
      ]
     },
     "execution_count": 11,
     "metadata": {},
     "output_type": "execute_result"
    }
   ],
   "source": [
    "# We choose k=3\n",
    "kprototype = KPrototypes(n_jobs = -1, n_clusters = 3, init = 'Huang', random_state = 0)\n",
    "kprototype.fit_predict(dfMatrix, categorical = catColumnsPos)"
   ]
  },
  {
   "cell_type": "code",
   "execution_count": 12,
   "metadata": {},
   "outputs": [],
   "source": [
    "# Displays the centroid values of our clusters (so the characteristics of each cluster found by the algorithm)\n",
    "# kprototype.cluster_centroids_"
   ]
  },
  {
   "cell_type": "code",
   "execution_count": 13,
   "metadata": {
    "scrolled": true
   },
   "outputs": [],
   "source": [
    "# Check the iteration of the clusters created\n",
    "# kprototype.n_iter_"
   ]
  },
  {
   "cell_type": "code",
   "execution_count": 14,
   "metadata": {},
   "outputs": [],
   "source": [
    "# Check the cost of the clusters created\n",
    "# kprototype.cost_"
   ]
  },
  {
   "cell_type": "code",
   "execution_count": 15,
   "metadata": {},
   "outputs": [],
   "source": [
    "df['cluster_id'] = kprototype.labels_ "
   ]
  },
  {
   "cell_type": "code",
   "execution_count": 16,
   "metadata": {
    "scrolled": true
   },
   "outputs": [],
   "source": [
    "# df"
   ]
  },
  {
   "cell_type": "code",
   "execution_count": 17,
   "metadata": {},
   "outputs": [],
   "source": [
    "# df.to_csv(\"clustering.csv\", index=False)"
   ]
  }
 ],
 "metadata": {
  "kernelspec": {
   "display_name": "Python 3",
   "language": "python",
   "name": "python3"
  },
  "language_info": {
   "codemirror_mode": {
    "name": "ipython",
    "version": 3
   },
   "file_extension": ".py",
   "mimetype": "text/x-python",
   "name": "python",
   "nbconvert_exporter": "python",
   "pygments_lexer": "ipython3",
   "version": "3.8.5"
  }
 },
 "nbformat": 4,
 "nbformat_minor": 4
}